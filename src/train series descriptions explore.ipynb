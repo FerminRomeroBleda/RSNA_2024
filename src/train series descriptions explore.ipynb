{
 "cells": [
  {
   "cell_type": "markdown",
   "metadata": {},
   "source": [
    "# train_series_descriptions.csv\n",
    "\n",
    "---\n",
    "\n",
    "Nuestras carpetas están organizadas en un principio en \"../data/raw/\" y tenemos las carpetas:\n",
    "\n",
    " `test_images`, `train_images`,\n",
    " \n",
    " y los archivos:\n",
    " \n",
    "  `sample_submission.csv`, `test_series_descriptions.csv`, `train_label_coordinates.csv`, `train_series_descriptions.csv` y `train.csv`.\n",
    "\n",
    "---\n",
    "\n",
    "### Step 1: Problem statement and data collection\n",
    "\n",
    "**Analysis Objective**\n",
    "\n",
    "**Context os the analysis**\n"
   ]
  },
  {
   "cell_type": "code",
   "execution_count": 2,
   "metadata": {},
   "outputs": [
    {
     "data": {
      "text/html": [
       "<div>\n",
       "<style scoped>\n",
       "    .dataframe tbody tr th:only-of-type {\n",
       "        vertical-align: middle;\n",
       "    }\n",
       "\n",
       "    .dataframe tbody tr th {\n",
       "        vertical-align: top;\n",
       "    }\n",
       "\n",
       "    .dataframe thead th {\n",
       "        text-align: right;\n",
       "    }\n",
       "</style>\n",
       "<table border=\"1\" class=\"dataframe\">\n",
       "  <thead>\n",
       "    <tr style=\"text-align: right;\">\n",
       "      <th></th>\n",
       "      <th>study_id</th>\n",
       "      <th>series_id</th>\n",
       "      <th>series_description</th>\n",
       "    </tr>\n",
       "  </thead>\n",
       "  <tbody>\n",
       "    <tr>\n",
       "      <th>0</th>\n",
       "      <td>4003253</td>\n",
       "      <td>702807833</td>\n",
       "      <td>Sagittal T2/STIR</td>\n",
       "    </tr>\n",
       "    <tr>\n",
       "      <th>1</th>\n",
       "      <td>4003253</td>\n",
       "      <td>1054713880</td>\n",
       "      <td>Sagittal T1</td>\n",
       "    </tr>\n",
       "    <tr>\n",
       "      <th>2</th>\n",
       "      <td>4003253</td>\n",
       "      <td>2448190387</td>\n",
       "      <td>Axial T2</td>\n",
       "    </tr>\n",
       "  </tbody>\n",
       "</table>\n",
       "</div>"
      ],
      "text/plain": [
       "   study_id   series_id series_description\n",
       "0   4003253   702807833   Sagittal T2/STIR\n",
       "1   4003253  1054713880        Sagittal T1\n",
       "2   4003253  2448190387           Axial T2"
      ]
     },
     "execution_count": 2,
     "metadata": {},
     "output_type": "execute_result"
    }
   ],
   "source": [
    "# Import the dataset to start working with it\n",
    "\n",
    "import pandas as pd \n",
    "\n",
    "df_train_series = pd.read_csv(\"../data/raw/train_series_descriptions.csv\")\n",
    "df_train_series.head(3)"
   ]
  },
  {
   "cell_type": "markdown",
   "metadata": {},
   "source": [
    "#### **Files**\n",
    "\n",
    "**train_series_descriptions.csv**\n",
    "\n",
    "- `study_id` -->\n",
    "\n",
    "- `series_id` -->\n",
    "\n",
    "- `series_description` -->\n",
    "\n",
    "---\n",
    "\n",
    "### Step 2: Exploration and data cleaning\n",
    "\n",
    "- #### 2.1 Summarize DF"
   ]
  },
  {
   "cell_type": "code",
   "execution_count": 3,
   "metadata": {},
   "outputs": [
    {
     "name": "stdout",
     "output_type": "stream",
     "text": [
      "The dimensions of this dataset are: 6294 Rows and 3 Columns\n"
     ]
    }
   ],
   "source": [
    "# Obtain dimensions\n",
    "\n",
    "rows, columns = df_train_series.shape\n",
    "\n",
    "print(f\"The dimensions of this dataset are: {rows} Rows and {columns} Columns\")"
   ]
  },
  {
   "cell_type": "code",
   "execution_count": 4,
   "metadata": {},
   "outputs": [
    {
     "name": "stdout",
     "output_type": "stream",
     "text": [
      "<class 'pandas.core.frame.DataFrame'>\n",
      "RangeIndex: 6294 entries, 0 to 6293\n",
      "Data columns (total 3 columns):\n",
      " #   Column              Non-Null Count  Dtype \n",
      "---  ------              --------------  ----- \n",
      " 0   study_id            6294 non-null   int64 \n",
      " 1   series_id           6294 non-null   int64 \n",
      " 2   series_description  6294 non-null   object\n",
      "dtypes: int64(2), object(1)\n",
      "memory usage: 147.6+ KB\n"
     ]
    }
   ],
   "source": [
    "# Obtain information about data types and non-null values\n",
    "\n",
    "df_train_series.info()"
   ]
  },
  {
   "cell_type": "code",
   "execution_count": 5,
   "metadata": {},
   "outputs": [
    {
     "name": "stdout",
     "output_type": "stream",
     "text": [
      "Series([], dtype: int64)\n",
      "\n",
      "The number of null variables are 0\n"
     ]
    }
   ],
   "source": [
    "# Check null values\n",
    "\n",
    "null_var = df_train_series.isnull().sum().loc[lambda x: x > 0]\n",
    "\n",
    "num_of_null_var = len(null_var)\n",
    "\n",
    "print(f\"{null_var}\\n\\nThe number of null variables are {num_of_null_var}\")"
   ]
  },
  {
   "cell_type": "markdown",
   "metadata": {},
   "source": [
    "---------**Conclusiones**---------\n",
    "\n",
    "- There are a total of 6294 rows y 3 columns.\n",
    "\n",
    "- The number of null variables are 0\n",
    "\n",
    "- The data has 1 categorical characteristic and 2 numerical.\n",
    "\n",
    "---\n",
    "\n",
    "- #### 2.2 Eliminate duplicates"
   ]
  },
  {
   "cell_type": "code",
   "execution_count": 6,
   "metadata": {},
   "outputs": [
    {
     "name": "stdout",
     "output_type": "stream",
     "text": [
      "The number of duplicate values in the dataset is 0\n"
     ]
    }
   ],
   "source": [
    "# Obtain the number of duplicate values in our dataset\n",
    "\n",
    "print(f\"The number of duplicate values in the dataset is {df_train_series.duplicated().sum()}\")"
   ]
  }
 ],
 "metadata": {
  "kernelspec": {
   "display_name": "deep_learning_env",
   "language": "python",
   "name": "python3"
  },
  "language_info": {
   "codemirror_mode": {
    "name": "ipython",
    "version": 3
   },
   "file_extension": ".py",
   "mimetype": "text/x-python",
   "name": "python",
   "nbconvert_exporter": "python",
   "pygments_lexer": "ipython3",
   "version": "3.12.8"
  }
 },
 "nbformat": 4,
 "nbformat_minor": 2
}
