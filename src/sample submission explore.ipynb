{
 "cells": [
  {
   "cell_type": "markdown",
   "metadata": {},
   "source": [
    "# Sample_submission.csv\n",
    "\n",
    ">NOTE: Esto es el ejemplo de como tenemos que mandar nuestra solución\n",
    "\n",
    "---\n",
    "\n",
    "Nuestras carpetas están organizadas en un principio en \"../data/raw/\" y tenemos las carpetas:\n",
    "\n",
    " `test_images`, `train_images`,\n",
    " \n",
    " y los archivos:\n",
    " \n",
    "  `sample_submission.csv`, `test_series_descriptions.csv`, `train_label_coordinates.csv`, `train_series_descriptions.csv` y `train.csv`.\n",
    "\n",
    "---\n",
    "\n",
    "### Step 1: Problem statement and data collection\n",
    "\n",
    "**Analysis Objective**\n",
    "\n",
    "**Context os the analysis**\n"
   ]
  },
  {
   "cell_type": "code",
   "execution_count": 1,
   "metadata": {},
   "outputs": [
    {
     "data": {
      "text/html": [
       "<div>\n",
       "<style scoped>\n",
       "    .dataframe tbody tr th:only-of-type {\n",
       "        vertical-align: middle;\n",
       "    }\n",
       "\n",
       "    .dataframe tbody tr th {\n",
       "        vertical-align: top;\n",
       "    }\n",
       "\n",
       "    .dataframe thead th {\n",
       "        text-align: right;\n",
       "    }\n",
       "</style>\n",
       "<table border=\"1\" class=\"dataframe\">\n",
       "  <thead>\n",
       "    <tr style=\"text-align: right;\">\n",
       "      <th></th>\n",
       "      <th>row_id</th>\n",
       "      <th>normal_mild</th>\n",
       "      <th>moderate</th>\n",
       "      <th>severe</th>\n",
       "    </tr>\n",
       "  </thead>\n",
       "  <tbody>\n",
       "    <tr>\n",
       "      <th>0</th>\n",
       "      <td>44036939_left_neural_foraminal_narrowing_l1_l2</td>\n",
       "      <td>0.333333</td>\n",
       "      <td>0.333333</td>\n",
       "      <td>0.333333</td>\n",
       "    </tr>\n",
       "    <tr>\n",
       "      <th>1</th>\n",
       "      <td>44036939_left_neural_foraminal_narrowing_l2_l3</td>\n",
       "      <td>0.333333</td>\n",
       "      <td>0.333333</td>\n",
       "      <td>0.333333</td>\n",
       "    </tr>\n",
       "    <tr>\n",
       "      <th>2</th>\n",
       "      <td>44036939_left_neural_foraminal_narrowing_l3_l4</td>\n",
       "      <td>0.333333</td>\n",
       "      <td>0.333333</td>\n",
       "      <td>0.333333</td>\n",
       "    </tr>\n",
       "  </tbody>\n",
       "</table>\n",
       "</div>"
      ],
      "text/plain": [
       "                                           row_id  normal_mild  moderate  \\\n",
       "0  44036939_left_neural_foraminal_narrowing_l1_l2     0.333333  0.333333   \n",
       "1  44036939_left_neural_foraminal_narrowing_l2_l3     0.333333  0.333333   \n",
       "2  44036939_left_neural_foraminal_narrowing_l3_l4     0.333333  0.333333   \n",
       "\n",
       "     severe  \n",
       "0  0.333333  \n",
       "1  0.333333  \n",
       "2  0.333333  "
      ]
     },
     "execution_count": 1,
     "metadata": {},
     "output_type": "execute_result"
    }
   ],
   "source": [
    "# Import the dataset to start working with it\n",
    "\n",
    "import pandas as pd \n",
    "\n",
    "df_sample = pd.read_csv(\"../data/raw/sample_submission.csv\")\n",
    "df_sample.head(3)"
   ]
  },
  {
   "cell_type": "markdown",
   "metadata": {},
   "source": [
    "#### **Files**\n",
    "\n",
    "**sample_submission.csv**\n",
    "\n",
    "- `row_id` --> A slug of the study ID, condition, and level\n",
    "\n",
    "- `normal_mid` --> Prediction column\n",
    "\n",
    "- `moderate` --> Prediction column\n",
    "\n",
    "- `severe` --> Prediction column"
   ]
  },
  {
   "cell_type": "markdown",
   "metadata": {},
   "source": [
    "---\n",
    "\n",
    "### Step 2: Exploration and data cleaning\n",
    "\n",
    "- #### 2.1 Summarize DF"
   ]
  },
  {
   "cell_type": "code",
   "execution_count": 2,
   "metadata": {},
   "outputs": [
    {
     "name": "stdout",
     "output_type": "stream",
     "text": [
      "The dimensions of this dataset are: 25 Rows and 4 Columns\n"
     ]
    }
   ],
   "source": [
    "# Obtain dimensions\n",
    "\n",
    "rows, columns = df_sample.shape\n",
    "\n",
    "print(f\"The dimensions of this dataset are: {rows} Rows and {columns} Columns\")"
   ]
  },
  {
   "cell_type": "code",
   "execution_count": 3,
   "metadata": {},
   "outputs": [
    {
     "name": "stdout",
     "output_type": "stream",
     "text": [
      "<class 'pandas.core.frame.DataFrame'>\n",
      "RangeIndex: 25 entries, 0 to 24\n",
      "Data columns (total 4 columns):\n",
      " #   Column       Non-Null Count  Dtype  \n",
      "---  ------       --------------  -----  \n",
      " 0   row_id       25 non-null     object \n",
      " 1   normal_mild  25 non-null     float64\n",
      " 2   moderate     25 non-null     float64\n",
      " 3   severe       25 non-null     float64\n",
      "dtypes: float64(3), object(1)\n",
      "memory usage: 932.0+ bytes\n"
     ]
    }
   ],
   "source": [
    "# Obtain information about data types and non-null values\n",
    "\n",
    "df_sample.info()"
   ]
  },
  {
   "cell_type": "code",
   "execution_count": 4,
   "metadata": {},
   "outputs": [
    {
     "name": "stdout",
     "output_type": "stream",
     "text": [
      "Series([], dtype: int64)\n",
      "\n",
      "The number of null variables are 0\n"
     ]
    }
   ],
   "source": [
    "# Check null values\n",
    "\n",
    "null_var = df_sample.isnull().sum().loc[lambda x: x > 0]\n",
    "\n",
    "num_of_null_var = len(null_var)\n",
    "\n",
    "print(f\"{null_var}\\n\\nThe number of null variables are {num_of_null_var}\")"
   ]
  },
  {
   "cell_type": "markdown",
   "metadata": {},
   "source": [
    "---------**Conclusiones**---------\n",
    "\n",
    "- There are a total of 25 rows y 4 columns (Severity Scores). AQUÍ PONER EL TARGET QUE BUSCAMOS\n",
    "\n",
    "- No hay ninguna variable con valores nulos.\n",
    "\n",
    "- The data has 1 categorical characteristics (A slug of the study ID, condition, and level) and 3 numerical.\n",
    "\n",
    "---\n",
    "\n",
    "- #### 2.2 Eliminate duplicates"
   ]
  },
  {
   "cell_type": "code",
   "execution_count": 5,
   "metadata": {},
   "outputs": [
    {
     "name": "stdout",
     "output_type": "stream",
     "text": [
      "The number of duplicate values in the dataset is 0\n"
     ]
    }
   ],
   "source": [
    "# Obtain the number of duplicate values in our dataset\n",
    "\n",
    "print(f\"The number of duplicate values in the dataset is {df_sample.duplicated().sum()}\")"
   ]
  }
 ],
 "metadata": {
  "kernelspec": {
   "display_name": "deep_learning_env",
   "language": "python",
   "name": "python3"
  },
  "language_info": {
   "codemirror_mode": {
    "name": "ipython",
    "version": 3
   },
   "file_extension": ".py",
   "mimetype": "text/x-python",
   "name": "python",
   "nbconvert_exporter": "python",
   "pygments_lexer": "ipython3",
   "version": "3.12.8"
  }
 },
 "nbformat": 4,
 "nbformat_minor": 2
}
